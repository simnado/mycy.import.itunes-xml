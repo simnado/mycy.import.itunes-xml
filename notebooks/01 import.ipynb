{
  "nbformat": 4,
  "nbformat_minor": 5,
  "metadata": {
    "kernel_info": {
      "name": "typescript-deno-1.37-packages"
    },
    "kernelspec": {
      "display_name": "Typescript: Deno 1.37 (Extra Packages)",
      "identifier": "packages",
      "language": "typescript",
      "language_version": "(Deno 1.37)",
      "name": "typescript-deno-1.37-packages"
    },
    "selected_hardware_size": "small",
    "noteable": {
      "db_connection": "@noteable"
    }
  },
  "cells": [
    {
      "id": "10ebdca5",
      "cell_type": "markdown",
      "source": "# Importing library from xml file",
      "metadata": {
        "noteable": {
          "cell_type": "markdown"
        }
      }
    },
    {
      "id": "79c7c3ed-ee32-4dd3-9506-990f156190bb",
      "cell_type": "code",
      "metadata": {
        "noteable": {
          "cell_type": "python",
          "output_collection_id": "b9e60649-e80d-44fa-8bac-5266f8cdc798"
        },
        "ExecuteTime": {
          "end_time": "2023-12-13T14:42:36.791185+00:00",
          "start_time": "2023-12-13T14:42:36.578801+00:00"
        }
      },
      "execution_count": null,
      "source": "import { a } from '@narendev/itunes-import'\n\na",
      "outputs": []
    },
    {
      "id": "2d90ae0a-380b-401c-884d-a9be627e0996",
      "cell_type": "markdown",
      "source": "parse the xml formatted library and write the results in json format\n",
      "metadata": {
        "noteable": {
          "cell_type": "markdown"
        }
      }
    },
    {
      "id": "226e5679-7b90-4c56-aa91-8d431a4aca67",
      "cell_type": "code",
      "metadata": {
        "noteable": {
          "cell_type": "python",
          "output_collection_id": "75660578-4ddf-4979-b78a-72b5c9d8a093"
        },
        "ExecuteTime": {
          "end_time": "2023-12-13T15:22:30.229557+00:00",
          "start_time": "2023-12-13T15:22:30.228385+00:00"
        }
      },
      "execution_count": null,
      "source": "const XML_PATH = '.tmp/Mediathek_7.9.23.xml'",
      "outputs": []
    },
    {
      "id": "7c0bbf8b-89b5-4052-9287-11bbeb69ffb6",
      "cell_type": "code",
      "metadata": {
        "noteable": {
          "cell_type": "python",
          "output_collection_id": "bb521b36-c622-4438-a5e4-92fd8602eaae"
        },
        "ExecuteTime": {
          "end_time": "2023-12-13T15:53:55.472407+00:00",
          "start_time": "2023-12-13T15:53:55.464387+00:00"
        }
      },
      "execution_count": null,
      "source": "import parser from 'npm:@johnpaulvaughan/itunes-music-library-tracks'\nimport { assert } from \"https://deno.land/std@0.208.0/assert/mod.ts\";\nimport * as path from \"https://deno.land/std/path/mod.ts\";\nimport fs from 'node:fs'\n\n//let trackStream = getItunesTracks(validXMLpath)\nassert(parser.validPath(XML_PATH))\n\nconst stream = parser.getItunesTracks(path.resolve(XML_PATH))\n\n\nconst result = new Promise((resolve, reject) => {\n    let songCount = 0\n    stream.on('data', (data) => songCount += 1)\n    stream.on('error', (error) => reject(error))\n    stream.on('end', () => resolve(songCount))\n})\n\n\n//await result\n//path.resolve(XML_PATH)\n\nlet streamIn = fs.createReadStream(XML_PATH);\nconst result = new Promise((resolve, reject) => {\n    let songCount = 0\n    stream.on('data', (data) => songCount += 1)\n    streamIn.on('error', (error) => reject(error))\n    stream.on('end', () => resolve(songCount))\n})\nstreamIn.on('error', function () {\n    return streamOut.emit('error', 'The file you selected does not exist');\n});\n",
      "outputs": []
    },
    {
      "id": "5c372d50-dd9f-4d33-b8ff-36ac1c23e41c",
      "cell_type": "markdown",
      "source": "do lookup in itunes store\n",
      "metadata": {
        "noteable": {
          "cell_type": "markdown"
        }
      }
    },
    {
      "id": "13376dd5-d1b3-4fdb-8456-29583aba1dd8",
      "cell_type": "code",
      "metadata": {
        "noteable": {
          "cell_type": "python",
          "output_collection_id": "1d577d29-7d3c-447b-b9b7-8fd1f3c32411"
        },
        "ExecuteTime": {
          "end_time": "2023-12-13T14:59:04.576105+00:00",
          "start_time": "2023-12-13T14:59:04.233475+00:00"
        }
      },
      "execution_count": null,
      "source": "import {isc} from 'npm:itunes-search-client'\n\nconst res = await isc('foo').media('music').entity('song').attribute('songTerm').send()\nconst json = await res.json()\n\njson",
      "outputs": []
    }
  ]
}