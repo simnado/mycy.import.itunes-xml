{
  "cells": [
    {
      "cell_type": "markdown",
      "id": "10ebdca5",
      "metadata": {
        "noteable": {
          "cell_type": "markdown"
        }
      },
      "source": [
        "# Importing library from xml file"
      ]
    },
    {
      "cell_type": "code",
      "execution_count": null,
      "id": "79c7c3ed-ee32-4dd3-9506-990f156190bb",
      "metadata": {
        "ExecuteTime": {
          "end_time": "2023-12-13T14:42:36.791185+00:00",
          "start_time": "2023-12-13T14:42:36.578801+00:00"
        },
        "noteable": {
          "cell_type": "python",
          "output_collection_id": "b9e60649-e80d-44fa-8bac-5266f8cdc798"
        }
      },
      "outputs": [],
      "source": [
        "import { a } from '@narendev/itunes-import'\n",
        "\n",
        "a\n",
        "\n",
        "exclusionFilter = new Map([\n",
        "    [\"Distinguished Kind\", () => true],\n",
        "    [\"Folder\", () => true],\n",
        "    [\"Master\", () => true],\n",
        "    [\"Smart Criteria\", () => true],\n",
        "  ]);\n",
        "\n",
        "  fieldMappings = new Map([\n",
        "    [\"Album\", \"album\"],\n",
        "    [\"Application Version\", \"iTunesVersion\"],\n",
        "    [\"Artist\", \"artist\"],\n",
        "    [\"Composer\", \"composer\"],\n",
        "    [\"Date\", \"snappedAt\"],\n",
        "    [\"Date Added\", \"addedAt\"],\n",
        "    [\"Date Modified\", \"modifiedAt\"],\n",
        "    [\"Disc Number\", \"disc\"],\n",
        "    [\"Genre\", \"genre\"],\n",
        "    [\"Library Persistent ID\", \"externalId\"],\n",
        "    [\"Major Version\", \"majorVersion\"],\n",
        "    [\"Minor Version\", \"minorVersion\"],\n",
        "    [\"Name\", \"title\"],\n",
        "    [\"Persistent ID\", \"externalId\"],\n",
        "    [\"Playlist Persistent ID\", \"externalId\"],\n",
        "    [\"Release Date\", \"releaseDate\"],\n",
        "    [\"Total Time\", \"duration\"],\n",
        "    [\"Track ID\", \"externalId\"],\n",
        "    [\"Track Number\", \"track\"],\n",
        "    [\"Work\", \"work\"],\n",
        "    [\"Year\", \"year\"],\n",
        "\n",
        "    [\"Apple Music\", \"appleMusic\"],\n",
        "    [\"Application Version\", \"iTunesVersion\"],\n",
        "    [\"Bit Rate\", \"bitrate\"],\n",
        "    [\"Clean\", \"clean\"],\n",
        "    [\"Comments\", \"comments\"],\n",
        "    [\"Date\", \"snappedAt\"],\n",
        "    [\"Disliked\", \"disliked\"],\n",
        "    [\"Explicit\", \"explicit\"],\n",
        "    [\"Genre\", \"genre\"],\n",
        "    [\"Kind\", \"audioKind\"],\n",
        "    [\"Library Persistent ID\", \"externalId\"],\n",
        "    [\"Loved\", \"loved\"],\n",
        "    [\"Major Version\", \"majorVersion\"],\n",
        "    [\"Matched\", \"matched\"],\n",
        "    [\"Minor Version\", \"minorVersion\"],\n",
        "    [\"Normalization\", \"normalization\"],\n",
        "    [\"Part Of Gapless Album\", \"gapless\"],\n",
        "    [\"Play Count\", \"playCount\"],\n",
        "    [\"Playlist Persistent ID\", \"externalId\"],\n",
        "    [\"Rating\", \"rating\"],\n",
        "    [\"Sample Rate\", \"sampleRate\"],\n",
        "    [\"Skip Count\", \"skipCount\"],\n",
        "    [\"Track Type\", \"trackType\"],\n",
        "    [\"Volume Adjustment\", \"volumeAdjustment\"],\n",
        "    [\"Work\", \"work\"],\n",
        "    [\"Year\", \"year\"],\n",
        "    [\"Track ID\", \"all\"],\n",
        "  ]);"
      ]
    },
    {
      "cell_type": "markdown",
      "id": "2d90ae0a-380b-401c-884d-a9be627e0996",
      "metadata": {
        "noteable": {
          "cell_type": "markdown"
        }
      },
      "source": [
        "parse the xml formatted library and write the results in json format\n"
      ]
    },
    {
      "cell_type": "code",
      "execution_count": null,
      "id": "226e5679-7b90-4c56-aa91-8d431a4aca67",
      "metadata": {
        "ExecuteTime": {
          "end_time": "2023-12-13T16:02:47.282513+00:00",
          "start_time": "2023-12-13T16:02:47.281167+00:00"
        },
        "noteable": {
          "cell_type": "python",
          "output_collection_id": "eb9015b2-d2de-42a4-9817-37b3281dea15"
        }
      },
      "outputs": [],
      "source": [
        "const XML_PATH = '../.tmp/Mediathek_7.9.23.xml'"
      ]
    },
    {
      "cell_type": "code",
      "execution_count": null,
      "id": "7c0bbf8b-89b5-4052-9287-11bbeb69ffb6",
      "metadata": {
        "ExecuteTime": {
          "end_time": "2023-12-13T15:59:54.328898+00:00",
          "start_time": "2023-12-13T15:59:45.180203+00:00"
        },
        "noteable": {
          "cell_type": "python",
          "output_collection_id": "e65d051f-1fd2-4dd4-bf35-d4bf4bb53ccb"
        }
      },
      "outputs": [],
      "source": [
        "import parser from 'npm:@johnpaulvaughan/itunes-music-library-tracks'\n",
        "import { assert } from \"https://deno.land/std@0.208.0/assert/mod.ts\";\n",
        "import * as path from \"https://deno.land/std/path/mod.ts\";\n",
        "import fs from 'node:fs'\n",
        "\n",
        "//let trackStream = getItunesTracks(validXMLpath)\n",
        "assert(parser.validPath(XML_PATH))\n",
        "\n",
        "const stream = parser.getItunesTracks(path.resolve(XML_PATH))\n",
        "\n",
        "\n",
        "const result = new Promise((resolve, reject) => {\n",
        "    let songCount = 0\n",
        "    stream.on('data', (data) => songCount += 1)\n",
        "    stream.on('error', (error) => reject(error))\n",
        "    stream.on('end', () => resolve(songCount))\n",
        "})\n",
        "\n",
        "\n",
        "await result"
      ]
    },
    {
      "cell_type": "markdown",
      "id": "5c372d50-dd9f-4d33-b8ff-36ac1c23e41c",
      "metadata": {
        "noteable": {
          "cell_type": "markdown"
        }
      },
      "source": [
        "do lookup in itunes store\n"
      ]
    },
    {
      "cell_type": "code",
      "execution_count": null,
      "id": "13376dd5-d1b3-4fdb-8456-29583aba1dd8",
      "metadata": {
        "ExecuteTime": {
          "end_time": "2023-12-13T14:59:04.576105+00:00",
          "start_time": "2023-12-13T14:59:04.233475+00:00"
        },
        "noteable": {
          "cell_type": "python",
          "output_collection_id": "1d577d29-7d3c-447b-b9b7-8fd1f3c32411"
        }
      },
      "outputs": [],
      "source": [
        "import {isc} from 'npm:itunes-search-client'\n",
        "\n",
        "const res = await isc('foo').media('music').entity('song').attribute('songTerm').send()\n",
        "const json = await res.json()\n",
        "\n",
        "json"
      ]
    }
  ],
  "metadata": {
    "kernel_info": {
      "name": "typescript-deno-1.37-packages"
    },
    "kernelspec": {
      "display_name": "Typescript: Deno 1.37 (Extra Packages)",
      "identifier": "packages",
      "language": "typescript",
      "language_version": "(Deno 1.37)",
      "name": "typescript-deno-1.37-packages"
    },
    "noteable": {
      "db_connection": "@noteable"
    },
    "selected_hardware_size": "small"
  },
  "nbformat": 4,
  "nbformat_minor": 5
}
