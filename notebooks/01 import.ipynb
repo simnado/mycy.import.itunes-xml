{
  "cells": [
    {
      "cell_type": "markdown",
      "id": "10ebdca5",
      "metadata": {
        "noteable": {
          "cell_type": "markdown"
        }
      },
      "source": [
        "# Importing library from xml file"
      ]
    },
    {
      "cell_type": "code",
      "execution_count": null,
      "id": "79c7c3ed-ee32-4dd3-9506-990f156190bb",
      "metadata": {
        "ExecuteTime": {
          "end_time": "2023-12-13T16:54:01.321016+00:00",
          "start_time": "2023-12-13T16:53:59.484392+00:00"
        },
        "noteable": {
          "cell_type": "python",
          "output_collection_id": "5fb31e73-0462-4110-a7dd-9ccc66f7661e"
        }
      },
      "outputs": [],
      "source": "import { a } from '@narendev/itunes-import'\n\na"
    },
    {
      "cell_type": "markdown",
      "id": "2d90ae0a-380b-401c-884d-a9be627e0996",
      "metadata": {
        "noteable": {
          "cell_type": "markdown"
        }
      },
      "source": [
        "parse the xml formatted library and write the results in json format\n"
      ]
    },
    {
      "cell_type": "code",
      "execution_count": null,
      "id": "226e5679-7b90-4c56-aa91-8d431a4aca67",
      "metadata": {
        "ExecuteTime": {
          "end_time": "2023-12-13T16:57:29.722192+00:00",
          "start_time": "2023-12-13T16:57:29.720877+00:00"
        },
        "noteable": {
          "cell_type": "python",
          "output_collection_id": "6063d549-6a15-4bd8-a24a-463af9421b99"
        }
      },
      "outputs": [],
      "source": [
        "const XML_PATH = '../.tmp/Mediathek_7.9.23.xml'"
      ]
    },
    {
      "cell_type": "code",
      "execution_count": null,
      "id": "7c0bbf8b-89b5-4052-9287-11bbeb69ffb6",
      "metadata": {
        "ExecuteTime": {
          "end_time": "2023-12-13T16:57:40.370683+00:00",
          "start_time": "2023-12-13T16:57:33.179359+00:00"
        },
        "noteable": {
          "cell_type": "python",
          "output_collection_id": "647ce371-50e9-4a33-8c5a-5e0d5b61e026"
        }
      },
      "outputs": [],
      "source": "import { assert } from \"https://deno.land/std@0.208.0/assert/mod.ts\";\n//import * as path from \"https://deno.land/std/path/mod.ts\";\nimport {a, ITunesParser} from '@narendev/itunes-import'\n//import fs from 'node:fs'\n\nconst exclusionFilter = new Map([\n    [\"Distinguished Kind\", () => true],\n    [\"Folder\", () => true],\n    [\"Master\", () => true],\n    [\"Smart Criteria\", () => true],\n  ]);\n\nconst fieldMappings = new Map([\n    [\"Album\", \"album\"],\n    [\"Application Version\", \"iTunesVersion\"],\n    [\"Artist\", \"artist\"],\n    [\"Composer\", \"composer\"],\n    [\"Date\", \"snappedAt\"],\n    [\"Date Added\", \"addedAt\"],\n    [\"Date Modified\", \"modifiedAt\"],\n    [\"Disc Number\", \"disc\"],\n    [\"Genre\", \"genre\"],\n    [\"Library Persistent ID\", \"externalId\"],\n    [\"Major Version\", \"majorVersion\"],\n    [\"Minor Version\", \"minorVersion\"],\n    [\"Name\", \"title\"],\n    [\"Persistent ID\", \"externalId\"],\n    [\"Playlist Persistent ID\", \"externalId\"],\n    [\"Release Date\", \"releaseDate\"],\n    [\"Total Time\", \"duration\"],\n    [\"Track ID\", \"externalId\"],\n    [\"Track Number\", \"track\"],\n    [\"Work\", \"work\"],\n    [\"Year\", \"year\"],\n\n    [\"Apple Music\", \"appleMusic\"],\n    [\"Application Version\", \"iTunesVersion\"],\n    [\"Bit Rate\", \"bitrate\"],\n    [\"Clean\", \"clean\"],\n    [\"Comments\", \"comments\"],\n    [\"Disliked\", \"disliked\"],\n    [\"Explicit\", \"explicit\"],\n    [\"Kind\", \"audioKind\"],\n    [\"Loved\", \"loved\"],\n    [\"Matched\", \"matched\"],\n    [\"Normalization\", \"normalization\"],\n    [\"Part Of Gapless Album\", \"gapless\"],\n    [\"Play Count\", \"playCount\"],\n    [\"Rating\", \"rating\"],\n    [\"Sample Rate\", \"sampleRate\"],\n    [\"Skip Count\", \"skipCount\"],\n    [\"Track Type\", \"trackType\"],\n    [\"Volume Adjustment\", \"volumeAdjustment\"],\n    [\"Track ID\", \"all\"],\n]);\n\nconst file = await Deno.readFile(XML_PATH);\nconst fileBlob = new Blob([file], { type: \"text/xml\" });\nconst parser = new ITunesParser({fieldMappings, exclusionFilter})\nconst res = await parser.processFile(fileBlob);\nawait Deno.writeTextFile(\"./dist/dump.json\", JSON.stringify(res, null, 2));"
    },
    {
      "cell_type": "markdown",
      "id": "5c372d50-dd9f-4d33-b8ff-36ac1c23e41c",
      "metadata": {
        "noteable": {
          "cell_type": "markdown"
        }
      },
      "source": [
        "do lookup in itunes store\n"
      ]
    },
    {
      "cell_type": "code",
      "execution_count": null,
      "id": "13376dd5-d1b3-4fdb-8456-29583aba1dd8",
      "metadata": {
        "ExecuteTime": {
          "end_time": "2023-12-13T14:59:04.576105+00:00",
          "start_time": "2023-12-13T14:59:04.233475+00:00"
        },
        "noteable": {
          "cell_type": "python",
          "output_collection_id": "1d577d29-7d3c-447b-b9b7-8fd1f3c32411"
        }
      },
      "outputs": [],
      "source": [
        "import {isc} from 'npm:itunes-search-client'\n",
        "\n",
        "const res = await isc('foo').media('music').entity('song').attribute('songTerm').send()\n",
        "const json = await res.json()\n",
        "\n",
        "json"
      ]
    }
  ],
  "metadata": {
    "kernel_info": {
      "name": "typescript-deno-1.37-packages"
    },
    "kernelspec": {
      "display_name": "Typescript: Deno 1.37 (Extra Packages)",
      "identifier": "packages",
      "language": "typescript",
      "language_version": "(Deno 1.37)",
      "name": "typescript-deno-1.37-packages"
    },
    "noteable": {
      "db_connection": "@noteable"
    },
    "selected_hardware_size": "small"
  },
  "nbformat": 4,
  "nbformat_minor": 5
}