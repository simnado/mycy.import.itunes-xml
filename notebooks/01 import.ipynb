{
  "cells": [
    {
      "cell_type": "markdown",
      "id": "10ebdca5",
      "metadata": {
        "noteable": {
          "cell_type": "markdown"
        }
      },
      "source": [
        "# Importing library from xml file"
      ]
    },
    {
      "cell_type": "markdown",
      "id": "2d90ae0a-380b-401c-884d-a9be627e0996",
      "metadata": {
        "noteable": {
          "cell_type": "markdown"
        }
      },
      "source": [
        "parse the xml formatted library and write the results in json format\n"
      ]
    },
    {
      "cell_type": "code",
      "execution_count": null,
      "id": "226e5679-7b90-4c56-aa91-8d431a4aca67",
      "metadata": {
        "ExecuteTime": {
          "end_time": "2023-12-13T21:10:23.514127+00:00",
          "start_time": "2023-12-13T21:10:23.512629+00:00"
        },
        "noteable": {
          "cell_type": "python",
          "output_collection_id": "d19055e2-e3be-4400-a74b-ac61c49b6960"
        }
      },
      "outputs": [],
      "source": [
        "const XML_PATH = '../.tmp/Mediathek_7.9.23.xml'"
      ]
    },
    {
      "cell_type": "code",
      "execution_count": null,
      "id": "7c0bbf8b-89b5-4052-9287-11bbeb69ffb6",
      "metadata": {
        "ExecuteTime": {
          "end_time": "2023-12-13T21:10:35.866601+00:00",
          "start_time": "2023-12-13T21:10:28.724899+00:00"
        },
        "noteable": {
          "cell_type": "python",
          "output_collection_id": "ff6e3db5-1cd2-4656-8372-dc196c7ca3cc"
        }
      },
      "outputs": [],
      "source": "import { assert } from \"https://deno.land/std@0.208.0/assert/mod.ts\";\nimport { ITunesParser} from '@narendev/itunes-import'\n\nconst exclusionFilter = new Map([\n    [\"Distinguished Kind\", () => true],\n    [\"Folder\", () => true],\n    [\"Master\", () => true],\n    [\"Smart Criteria\", () => true],\n  ]);\n\nconst file = await Deno.readFile(XML_PATH);\nconst fileBlob = new Blob([file], { type: \"text/xml\" });\nconst parser = new ITunesParser()\nconst res = await parser.processFile(fileBlob);\nres"
    },
    {
      "cell_type": "markdown",
      "id": "5c372d50-dd9f-4d33-b8ff-36ac1c23e41c",
      "metadata": {
        "noteable": {
          "cell_type": "markdown"
        }
      },
      "source": [
        "do lookup in itunes store\n"
      ]
    },
    {
      "cell_type": "code",
      "execution_count": null,
      "id": "13376dd5-d1b3-4fdb-8456-29583aba1dd8",
      "metadata": {
        "ExecuteTime": {
          "end_time": "2023-12-13T14:59:04.576105+00:00",
          "start_time": "2023-12-13T14:59:04.233475+00:00"
        },
        "noteable": {
          "cell_type": "python",
          "output_collection_id": "1d577d29-7d3c-447b-b9b7-8fd1f3c32411"
        }
      },
      "outputs": [],
      "source": [
        "import {isc} from 'npm:itunes-search-client'\n",
        "\n",
        "const res = await isc('foo').media('music').entity('song').attribute('songTerm').send()\n",
        "const json = await res.json()\n",
        "\n",
        "json"
      ]
    }
  ],
  "metadata": {
    "kernel_info": {
      "name": "typescript-deno-1.37-packages"
    },
    "kernelspec": {
      "display_name": "Typescript: Deno 1.37 (Extra Packages)",
      "identifier": "packages",
      "language": "typescript",
      "language_version": "(Deno 1.37)",
      "name": "typescript-deno-1.37-packages"
    },
    "noteable": {
      "db_connection": "@noteable"
    },
    "selected_hardware_size": "small"
  },
  "nbformat": 4,
  "nbformat_minor": 5
}