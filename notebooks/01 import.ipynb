{
  "nbformat": 4,
  "nbformat_minor": 5,
  "metadata": {
    "kernel_info": {
      "name": "typescript-deno-1.37-packages"
    },
    "kernelspec": {
      "display_name": "Typescript: Deno 1.37 (Extra Packages)",
      "identifier": "packages",
      "language": "typescript",
      "language_version": "(Deno 1.37)",
      "name": "typescript-deno-1.37-packages"
    },
    "selected_hardware_size": "small"
  },
  "cells": [
    {
      "id": "10ebdca5",
      "cell_type": "markdown",
      "source": "# Importing library from xml file",
      "metadata": {
        "noteable": {
          "cell_type": "markdown"
        }
      }
    },
    {
      "id": "79c7c3ed-ee32-4dd3-9506-990f156190bb",
      "cell_type": "code",
      "metadata": {
        "noteable": {
          "cell_type": "python",
          "output_collection_id": "b04d7b5d-0577-485b-9d81-2c19159de699"
        },
        "ExecuteTime": {
          "end_time": "2023-12-13T14:42:00.276610+00:00",
          "start_time": "2023-12-13T14:42:00.274877+00:00"
        }
      },
      "execution_count": null,
      "source": "import { a } from '@narendev/import-itunes'\n\na",
      "outputs": []
    }
  ]
}