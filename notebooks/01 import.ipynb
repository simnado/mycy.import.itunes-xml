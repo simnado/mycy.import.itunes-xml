{
  "nbformat": 4,
  "nbformat_minor": 5,
  "metadata": {
    "kernel_info": {
      "name": "typescript-deno-1.37-packages"
    },
    "kernelspec": {
      "display_name": "Typescript: Deno 1.37 (Extra Packages)",
      "identifier": "packages",
      "language": "typescript",
      "language_version": "(Deno 1.37)",
      "name": "typescript-deno-1.37-packages"
    },
    "selected_hardware_size": "small",
    "noteable": {
      "db_connection": "@noteable"
    }
  },
  "cells": [
    {
      "id": "10ebdca5",
      "cell_type": "markdown",
      "source": "# Importing library from xml file",
      "metadata": {
        "noteable": {
          "cell_type": "markdown"
        }
      }
    },
    {
      "id": "79c7c3ed-ee32-4dd3-9506-990f156190bb",
      "cell_type": "code",
      "metadata": {
        "noteable": {
          "cell_type": "python",
          "output_collection_id": "b9e60649-e80d-44fa-8bac-5266f8cdc798"
        },
        "ExecuteTime": {
          "end_time": "2023-12-13T14:42:36.791185+00:00",
          "start_time": "2023-12-13T14:42:36.578801+00:00"
        }
      },
      "execution_count": null,
      "source": "import { a } from '@narendev/itunes-import'\n\na",
      "outputs": []
    },
    {
      "id": "5c372d50-dd9f-4d33-b8ff-36ac1c23e41c",
      "cell_type": "markdown",
      "source": "do lookup in itunes store\n",
      "metadata": {
        "noteable": {
          "cell_type": "markdown"
        }
      }
    },
    {
      "id": "13376dd5-d1b3-4fdb-8456-29583aba1dd8",
      "cell_type": "code",
      "metadata": {
        "noteable": {
          "cell_type": "python",
          "output_collection_id": "1d577d29-7d3c-447b-b9b7-8fd1f3c32411"
        },
        "ExecuteTime": {
          "end_time": "2023-12-13T14:59:04.576105+00:00",
          "start_time": "2023-12-13T14:59:04.233475+00:00"
        }
      },
      "execution_count": null,
      "source": "import {isc} from 'npm:itunes-search-client'\n\nconst res = await isc('foo').media('music').entity('song').attribute('songTerm').send()\nconst json = await res.json()\n\njson",
      "outputs": []
    }
  ]
}